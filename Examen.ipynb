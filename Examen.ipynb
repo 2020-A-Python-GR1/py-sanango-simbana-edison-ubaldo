{
 "cells": [
  {
   "cell_type": "code",
   "execution_count": 6,
   "metadata": {},
   "outputs": [],
   "source": [
    "import numpy as np\n",
    "import pandas as pd\n",
    "from scipy import ndimage, misc"
   ]
  },
  {
   "cell_type": "code",
   "execution_count": 7,
   "metadata": {},
   "outputs": [
    {
     "output_type": "execute_result",
     "data": {
      "text/plain": "[0, 0, 0, 0, 0, 0, 0, 0, 0, 0]"
     },
     "metadata": {},
     "execution_count": 7
    }
   ],
   "source": [
    "## 2) Crear un vector de ceros de tamaño 10\n",
    "\n",
    "respuesta = [0] * 10\n",
    "respuesta"
   ]
  },
  {
   "cell_type": "code",
   "execution_count": 8,
   "metadata": {},
   "outputs": [
    {
     "output_type": "execute_result",
     "data": {
      "text/plain": "[0, 0, 0, 0, 0, 1, 0, 0, 0, 0]"
     },
     "metadata": {},
     "execution_count": 8
    }
   ],
   "source": [
    "## 3) Crear un vector de ceros de tamaño 10 y el de la posicion 5 sea igual a 1\n",
    "\n",
    "respuesta = [0] * 10\n",
    "respuesta[5] = 1\n",
    "respuesta"
   ]
  },
  {
   "cell_type": "code",
   "execution_count": 10,
   "metadata": {
    "tags": []
   },
   "outputs": [
    {
     "output_type": "stream",
     "name": "stdout",
     "text": "[ 0  1  2  3  4  5  6  7  8  9 10 11 12 13 14 15 16 17 18 19 20 21 22 23\n 24 25 26 27 28 29 30 31 32 33 34 35 36 37 38 39 40 41 42 43 44 45 46 47\n 48 49]\n------\n[49 48 47 46 45 44 43 42 41 40 39 38 37 36 35 34 33 32 31 30 29 28 27 26\n 25 24 23 22 21 20 19 18 17 16 15 14 13 12 11 10  9  8  7  6  5  4  3  2\n  1  0]\n"
    }
   ],
   "source": [
    "## 4) Cambiar el orden de un vector de 50 elementos, el de la posicion 1 es el de la 50 etc.\n",
    "\n",
    "respuesta = np.arange(50)\n",
    "print(respuesta)\n",
    "respuesta = respuesta[::-1]\n",
    "print('------')\n",
    "print(respuesta)"
   ]
  },
  {
   "cell_type": "code",
   "execution_count": 12,
   "metadata": {},
   "outputs": [
    {
     "output_type": "execute_result",
     "data": {
      "text/plain": "array([[0, 1, 2],\n       [3, 4, 5],\n       [6, 7, 8]])"
     },
     "metadata": {},
     "execution_count": 12
    }
   ],
   "source": [
    "## 5) Crear una matriz de 3 x 3 con valores del cero al 8\n",
    "\n",
    "respuesta = np.arange(9).reshape(3,3)\n",
    "respuesta"
   ]
  },
  {
   "cell_type": "code",
   "execution_count": 110,
   "metadata": {
    "tags": []
   },
   "outputs": [
    {
     "output_type": "stream",
     "name": "stdout",
     "text": "[0, 1, 4]\n"
    }
   ],
   "source": [
    "## 6) Encontrar los indices que no sean cero en un arreglo\n",
    "arreglo = [1,2,0,0,4,0]\n",
    "respuesta = []\n",
    "for elemento, i in enumerate(arreglo):\n",
    "    if i != 0:\n",
    "        respuesta.append(elemento)\n",
    "\n",
    "print(respuesta)"
   ]
  },
  {
   "cell_type": "code",
   "execution_count": 15,
   "metadata": {},
   "outputs": [
    {
     "output_type": "execute_result",
     "data": {
      "text/plain": "array([[1., 0., 0.],\n       [0., 1., 0.],\n       [0., 0., 1.]])"
     },
     "metadata": {},
     "execution_count": 15
    }
   ],
   "source": [
    "## 7) Crear una matriz de identidad 3 x 3 \n",
    "respuesta = np.eye(3)\n",
    "respuesta"
   ]
  },
  {
   "cell_type": "code",
   "execution_count": 17,
   "metadata": {},
   "outputs": [
    {
     "output_type": "execute_result",
     "data": {
      "text/plain": "array([[[56, 93, 69],\n        [85, 22, 87],\n        [87, 89,  2]],\n\n       [[80, 49, 39],\n        [97, 30, 85],\n        [70, 26, 13]],\n\n       [[60, 41, 21],\n        [34, 52, 95],\n        [ 4, 25, 54]]])"
     },
     "metadata": {},
     "execution_count": 17
    }
   ],
   "source": [
    "## 8) Crear una matriz 3 x 3 x 3 con valores randomicos\n",
    "\n",
    "respuesta = np.random.randint(1,100,3*3*3).reshape(3,3,3)\n",
    "respuesta"
   ]
  },
  {
   "cell_type": "code",
   "execution_count": 22,
   "metadata": {
    "tags": []
   },
   "outputs": [
    {
     "output_type": "stream",
     "name": "stdout",
     "text": "[[24 28 79 66 16 89 37 60  6 50]\n [41 61 78 74 15 44 26 20 51 44]\n [99 62 59 41 52 63  3 68  5 35]\n [46 40  1  7 89 57 85 65  3 77]\n [74 52 55  6 43 32  8 57 35 45]\n [57 30 21 72 67 90 15 57 88 49]\n [67 68 14 36 22  9 95 62  8 85]\n [88 83 90 18 68 32 74 85 90 97]\n [33 33 75 72 87 76 22 64 67 76]\n [18 35  8 79 17  8 44 56 40 94]]\n-----\nMax: 99\n-----\nMin: 1\n"
    }
   ],
   "source": [
    "## 9) Crear una matriz 10 x 10 y encontrar el mayor y el menor\n",
    "\n",
    "respuesta = np.random.randint(1,100,10*10).reshape(10,10)\n",
    "print(respuesta)\n",
    "print('-----')\n",
    "print('Max: {}'.format(respuesta.max()))\n",
    "print('-----')\n",
    "print('Min: {}'.format(respuesta.min()))"
   ]
  },
  {
   "cell_type": "code",
   "execution_count": 128,
   "metadata": {
    "tags": []
   },
   "outputs": [
    {
     "output_type": "stream",
     "name": "stdout",
     "text": "Cantidad de colores totales: 786432\n[[121 112 131]\n [138 129 148]\n [153 144 165]\n ...\n [120 156  95]\n [119 155  93]\n [118 154  92]]\n------------\nCantidad de colores totales unicos: 134105\n[[  0   0   5]\n [  0   0   7]\n [  0   0   9]\n ...\n [255 248 255]\n [255 249 255]\n [255 252 255]]\n"
    }
   ],
   "source": [
    "## 10) Sacar los colores RGB unicos en una imagen (cuales rgb existen ej: 0, 0, 0 - 255,255,255 -> 2 colores)\n",
    "\n",
    "mapache = misc.face() # imagen del mapache\n",
    "mapache = mapache.reshape(-1,3)\n",
    "print('Cantidad de colores totales: {}'.format(len(mapache)))\n",
    "print(mapache)\n",
    "mapache = np.unique(mapache, axis=0)\n",
    "print('------------')\n",
    "print('Cantidad de colores totales unicos: {}'.format(len(mapache)))\n",
    "print(mapache)"
   ]
  },
  {
   "cell_type": "code",
   "execution_count": 115,
   "metadata": {
    "tags": []
   },
   "outputs": [
    {
     "output_type": "stream",
     "name": "stdout",
     "text": "LISTA\n0     a\n1     b\n2     c\n3     e\n4     d\n5     f\n6     g\n7     h\n8     i\n9     j\n10    k\n11    l\n12    m\n13    n\n14    o\n15    p\n16    q\n17    r\n18    s\n19    t\n20    u\n21    v\n22    w\n23    x\n24    y\n25    z\ndtype: object\n-----\nARREGLO\n0      0\n1      1\n2      2\n3      3\n4      4\n5      5\n6      6\n7      7\n8      8\n9      9\n10    10\n11    11\n12    12\n13    13\n14    14\n15    15\n16    16\n17    17\n18    18\n19    19\n20    20\n21    21\n22    22\n23    23\n24    24\n25    25\ndtype: int64\n-----\nDICT\na     0\nb     1\nc     2\ne     3\nd     4\nf     5\ng     6\nh     7\ni     8\nj     9\nk    10\nl    11\nm    12\nn    13\no    14\np    15\nq    16\nr    17\ns    18\nt    19\nu    20\nv    21\nw    22\nx    23\ny    24\nz    25\ndtype: int64\n"
    }
   ],
   "source": [
    "## 11) ¿Como crear una serie de una lista, diccionario o arreglo?\n",
    "\n",
    "mylist = list('abcedfghijklmnopqrstuvwxyz') # lista\n",
    "serie = pd.Series(mylist)\n",
    "print('LISTA')\n",
    "print(serie)\n",
    "print('-----')\n",
    "\n",
    "myarr = np.arange(26) # arreglo\n",
    "serie = pd.Series(myarr)\n",
    "print('ARREGLO')\n",
    "print(serie)\n",
    "print('-----')\n",
    "\n",
    "mydict = dict(zip(mylist, myarr)) # dict\n",
    "serie = pd.Series(mydict)\n",
    "print('DICT')\n",
    "print(serie)\n"
   ]
  },
  {
   "cell_type": "code",
   "execution_count": 40,
   "metadata": {
    "tags": []
   },
   "outputs": [
    {
     "output_type": "stream",
     "name": "stdout",
     "text": "a     0\nb     1\nc     2\ne     3\nd     4\nf     5\ng     6\nh     7\ni     8\nj     9\nk    10\nl    11\nm    12\nn    13\no    14\np    15\nq    16\nr    17\ns    18\nt    19\nu    20\nv    21\nw    22\nx    23\ny    24\nz    25\ndtype: int64\n------\n"
    },
    {
     "output_type": "execute_result",
     "data": {
      "text/plain": "   letras  numeros\n0       a        0\n1       b        1\n2       c        2\n3       e        3\n4       d        4\n5       f        5\n6       g        6\n7       h        7\n8       i        8\n9       j        9\n10      k       10\n11      l       11\n12      m       12\n13      n       13\n14      o       14\n15      p       15\n16      q       16\n17      r       17\n18      s       18\n19      t       19\n20      u       20\n21      v       21\n22      w       22\n23      x       23\n24      y       24\n25      z       25",
      "text/html": "<div>\n<style scoped>\n    .dataframe tbody tr th:only-of-type {\n        vertical-align: middle;\n    }\n\n    .dataframe tbody tr th {\n        vertical-align: top;\n    }\n\n    .dataframe thead th {\n        text-align: right;\n    }\n</style>\n<table border=\"1\" class=\"dataframe\">\n  <thead>\n    <tr style=\"text-align: right;\">\n      <th></th>\n      <th>letras</th>\n      <th>numeros</th>\n    </tr>\n  </thead>\n  <tbody>\n    <tr>\n      <th>0</th>\n      <td>a</td>\n      <td>0</td>\n    </tr>\n    <tr>\n      <th>1</th>\n      <td>b</td>\n      <td>1</td>\n    </tr>\n    <tr>\n      <th>2</th>\n      <td>c</td>\n      <td>2</td>\n    </tr>\n    <tr>\n      <th>3</th>\n      <td>e</td>\n      <td>3</td>\n    </tr>\n    <tr>\n      <th>4</th>\n      <td>d</td>\n      <td>4</td>\n    </tr>\n    <tr>\n      <th>5</th>\n      <td>f</td>\n      <td>5</td>\n    </tr>\n    <tr>\n      <th>6</th>\n      <td>g</td>\n      <td>6</td>\n    </tr>\n    <tr>\n      <th>7</th>\n      <td>h</td>\n      <td>7</td>\n    </tr>\n    <tr>\n      <th>8</th>\n      <td>i</td>\n      <td>8</td>\n    </tr>\n    <tr>\n      <th>9</th>\n      <td>j</td>\n      <td>9</td>\n    </tr>\n    <tr>\n      <th>10</th>\n      <td>k</td>\n      <td>10</td>\n    </tr>\n    <tr>\n      <th>11</th>\n      <td>l</td>\n      <td>11</td>\n    </tr>\n    <tr>\n      <th>12</th>\n      <td>m</td>\n      <td>12</td>\n    </tr>\n    <tr>\n      <th>13</th>\n      <td>n</td>\n      <td>13</td>\n    </tr>\n    <tr>\n      <th>14</th>\n      <td>o</td>\n      <td>14</td>\n    </tr>\n    <tr>\n      <th>15</th>\n      <td>p</td>\n      <td>15</td>\n    </tr>\n    <tr>\n      <th>16</th>\n      <td>q</td>\n      <td>16</td>\n    </tr>\n    <tr>\n      <th>17</th>\n      <td>r</td>\n      <td>17</td>\n    </tr>\n    <tr>\n      <th>18</th>\n      <td>s</td>\n      <td>18</td>\n    </tr>\n    <tr>\n      <th>19</th>\n      <td>t</td>\n      <td>19</td>\n    </tr>\n    <tr>\n      <th>20</th>\n      <td>u</td>\n      <td>20</td>\n    </tr>\n    <tr>\n      <th>21</th>\n      <td>v</td>\n      <td>21</td>\n    </tr>\n    <tr>\n      <th>22</th>\n      <td>w</td>\n      <td>22</td>\n    </tr>\n    <tr>\n      <th>23</th>\n      <td>x</td>\n      <td>23</td>\n    </tr>\n    <tr>\n      <th>24</th>\n      <td>y</td>\n      <td>24</td>\n    </tr>\n    <tr>\n      <th>25</th>\n      <td>z</td>\n      <td>25</td>\n    </tr>\n  </tbody>\n</table>\n</div>"
     },
     "metadata": {},
     "execution_count": 40
    }
   ],
   "source": [
    "## 12) ¿Como convertir el indice de una serie en una columna de un DataFrame?\n",
    "mylist = list('abcedfghijklmnopqrstuvwxyz')\n",
    "myarr = np.arange(26)\n",
    "mydict = dict(zip(mylist, myarr))\n",
    "ser = pd.Series(mydict)  \n",
    "# Transformar la serie en dataframe y hacer una columna indice\n",
    "print(ser)\n",
    "print('------')\n",
    "df = pd.DataFrame(ser)\n",
    "df.reset_index(level=0, inplace=True)\n",
    "df.rename(columns={'index': 'letras',0:'numeros'}, inplace=True)\n",
    "df\n"
   ]
  },
  {
   "cell_type": "code",
   "execution_count": 44,
   "metadata": {},
   "outputs": [
    {
     "output_type": "execute_result",
     "data": {
      "text/plain": "   ser1  ser2\n0     a     0\n1     b     1\n2     c     2\n3     e     3\n4     d     4\n5     f     5\n6     g     6\n7     h     7\n8     i     8\n9     j     9\n10    k    10\n11    l    11\n12    m    12\n13    n    13\n14    o    14\n15    p    15\n16    q    16\n17    r    17\n18    s    18\n19    t    19\n20    u    20\n21    v    21\n22    w    22\n23    x    23\n24    y    24\n25    z    25",
      "text/html": "<div>\n<style scoped>\n    .dataframe tbody tr th:only-of-type {\n        vertical-align: middle;\n    }\n\n    .dataframe tbody tr th {\n        vertical-align: top;\n    }\n\n    .dataframe thead th {\n        text-align: right;\n    }\n</style>\n<table border=\"1\" class=\"dataframe\">\n  <thead>\n    <tr style=\"text-align: right;\">\n      <th></th>\n      <th>ser1</th>\n      <th>ser2</th>\n    </tr>\n  </thead>\n  <tbody>\n    <tr>\n      <th>0</th>\n      <td>a</td>\n      <td>0</td>\n    </tr>\n    <tr>\n      <th>1</th>\n      <td>b</td>\n      <td>1</td>\n    </tr>\n    <tr>\n      <th>2</th>\n      <td>c</td>\n      <td>2</td>\n    </tr>\n    <tr>\n      <th>3</th>\n      <td>e</td>\n      <td>3</td>\n    </tr>\n    <tr>\n      <th>4</th>\n      <td>d</td>\n      <td>4</td>\n    </tr>\n    <tr>\n      <th>5</th>\n      <td>f</td>\n      <td>5</td>\n    </tr>\n    <tr>\n      <th>6</th>\n      <td>g</td>\n      <td>6</td>\n    </tr>\n    <tr>\n      <th>7</th>\n      <td>h</td>\n      <td>7</td>\n    </tr>\n    <tr>\n      <th>8</th>\n      <td>i</td>\n      <td>8</td>\n    </tr>\n    <tr>\n      <th>9</th>\n      <td>j</td>\n      <td>9</td>\n    </tr>\n    <tr>\n      <th>10</th>\n      <td>k</td>\n      <td>10</td>\n    </tr>\n    <tr>\n      <th>11</th>\n      <td>l</td>\n      <td>11</td>\n    </tr>\n    <tr>\n      <th>12</th>\n      <td>m</td>\n      <td>12</td>\n    </tr>\n    <tr>\n      <th>13</th>\n      <td>n</td>\n      <td>13</td>\n    </tr>\n    <tr>\n      <th>14</th>\n      <td>o</td>\n      <td>14</td>\n    </tr>\n    <tr>\n      <th>15</th>\n      <td>p</td>\n      <td>15</td>\n    </tr>\n    <tr>\n      <th>16</th>\n      <td>q</td>\n      <td>16</td>\n    </tr>\n    <tr>\n      <th>17</th>\n      <td>r</td>\n      <td>17</td>\n    </tr>\n    <tr>\n      <th>18</th>\n      <td>s</td>\n      <td>18</td>\n    </tr>\n    <tr>\n      <th>19</th>\n      <td>t</td>\n      <td>19</td>\n    </tr>\n    <tr>\n      <th>20</th>\n      <td>u</td>\n      <td>20</td>\n    </tr>\n    <tr>\n      <th>21</th>\n      <td>v</td>\n      <td>21</td>\n    </tr>\n    <tr>\n      <th>22</th>\n      <td>w</td>\n      <td>22</td>\n    </tr>\n    <tr>\n      <th>23</th>\n      <td>x</td>\n      <td>23</td>\n    </tr>\n    <tr>\n      <th>24</th>\n      <td>y</td>\n      <td>24</td>\n    </tr>\n    <tr>\n      <th>25</th>\n      <td>z</td>\n      <td>25</td>\n    </tr>\n  </tbody>\n</table>\n</div>"
     },
     "metadata": {},
     "execution_count": 44
    }
   ],
   "source": [
    "## 13) ¿Como combinar varias series para hacer un DataFrame?\n",
    "\n",
    "ser1 = pd.Series(list('abcedfghijklmnopqrstuvwxyz'))\n",
    "ser2 = pd.Series(np.arange(26))\n",
    "datos = {'ser1': ser1, 'ser2': ser2}\n",
    "df = pd.DataFrame(datos)\n",
    "df"
   ]
  },
  {
   "cell_type": "code",
   "execution_count": 116,
   "metadata": {},
   "outputs": [
    {
     "output_type": "execute_result",
     "data": {
      "text/plain": "array([1, 2, 3])"
     },
     "metadata": {},
     "execution_count": 116
    }
   ],
   "source": [
    "## 14) ¿Como obtener los items que esten en una serie A y no en una serie B?\n",
    "\n",
    "ser1 = pd.Series([1, 2, 3, 4, 5])\n",
    "ser2 = pd.Series([4, 5, 6, 7, 8])\n",
    "\n",
    "estan = ser1.isin(ser2)\n",
    "ser1 = ser1[~estan]\n",
    "ser1.values"
   ]
  },
  {
   "cell_type": "code",
   "execution_count": 118,
   "metadata": {},
   "outputs": [
    {
     "output_type": "execute_result",
     "data": {
      "text/plain": "array([1, 2, 3, 6, 7, 8])"
     },
     "metadata": {},
     "execution_count": 118
    }
   ],
   "source": [
    "## 15) ¿Como obtener los items que no son comunes en una serie A y serie B?\n",
    "ser1 = pd.Series([1, 2, 3, 4, 5])\n",
    "ser2 = pd.Series([4, 5, 6, 7, 8])\n",
    "\n",
    "no_comunes = pd.concat([ser1,ser2]).drop_duplicates(keep=False)\n",
    "no_comunes.values"
   ]
  },
  {
   "cell_type": "code",
   "execution_count": 129,
   "metadata": {
    "tags": []
   },
   "outputs": [
    {
     "output_type": "stream",
     "name": "stdout",
     "text": "0     h\n1     g\n2     e\n3     b\n4     d\n5     e\n6     f\n7     d\n8     e\n9     e\n10    a\n11    g\n12    d\n13    d\n14    b\n15    d\n16    b\n17    h\n18    h\n19    f\n20    f\n21    e\n22    g\n23    d\n24    b\n25    b\n26    c\n27    e\n28    b\n29    f\ndtype: object\nCantidad de repeticiones de f: 4 \n"
    }
   ],
   "source": [
    "## 16) ¿Como obtener el numero de veces que se repite un valor en una serie?\n",
    "\n",
    "ser = pd.Series(np.take(list('abcdefgh'), np.random.randint(8, size=30)))\n",
    "print(ser)\n",
    "ser = np.array(ser.values)\n",
    "valor_a_repetir = 'f'\n",
    "veces = np.count_nonzero(ser == valor_a_repetir ) \n",
    "print('Cantidad de repeticiones de {}: {} '.format(valor_a_repetir, veces))"
   ]
  },
  {
   "cell_type": "code",
   "execution_count": 133,
   "metadata": {
    "tags": []
   },
   "outputs": [
    {
     "output_type": "stream",
     "name": "stdout",
     "text": "Serie original\n0     4\n1     3\n2     2\n3     3\n4     2\n5     2\n6     3\n7     1\n8     3\n9     1\n10    2\n11    1\ndtype: int64\nvalores más repetidos, sus columnas son: (valor, cantidad repeticiones)\n3    4\n2    4\n1    3\n4    1\ndtype: int64\nvalores que no son los dos más repetitivos:\n[1, 4]\nya cambiados a 0s:\n0     0\n1     3\n2     2\n3     3\n4     2\n5     2\n6     3\n7     0\n8     3\n9     0\n10    2\n11    0\ndtype: int64\n"
    }
   ],
   "source": [
    "## 17) ¿Como mantener los 2 valores mas repetidos de una serie, y a los demas valores cambiarles por 0 ?\n",
    "np.random.RandomState(100)\n",
    "ser = pd.Series(np.random.randint(1, 5, [12]))\n",
    "print('Serie original')\n",
    "print(ser)\n",
    "veces = ser.value_counts()\n",
    "print('valores más repetidos, sus columnas son: (valor, cantidad repeticiones)')\n",
    "print(veces)\n",
    "no_mayores = [veces.index[2:]]\n",
    "print('valores que no son los dos más repetitivos:')\n",
    "print(list(no_mayores[0]))\n",
    "print('ya cambiados a 0s:')\n",
    "ser = ser.replace(list(no_mayores[0]), 0)\n",
    "print(ser)"
   ]
  },
  {
   "cell_type": "code",
   "execution_count": 64,
   "metadata": {},
   "outputs": [
    {
     "output_type": "execute_result",
     "data": {
      "text/plain": "   0  1  2  3  4\n0  3  6  1  5  8\n1  2  5  4  6  1\n2  8  8  2  2  9\n3  1  6  5  1  7\n4  9  7  8  2  5\n5  9  4  2  7  3\n6  9  8  7  8  4",
      "text/html": "<div>\n<style scoped>\n    .dataframe tbody tr th:only-of-type {\n        vertical-align: middle;\n    }\n\n    .dataframe tbody tr th {\n        vertical-align: top;\n    }\n\n    .dataframe thead th {\n        text-align: right;\n    }\n</style>\n<table border=\"1\" class=\"dataframe\">\n  <thead>\n    <tr style=\"text-align: right;\">\n      <th></th>\n      <th>0</th>\n      <th>1</th>\n      <th>2</th>\n      <th>3</th>\n      <th>4</th>\n    </tr>\n  </thead>\n  <tbody>\n    <tr>\n      <th>0</th>\n      <td>3</td>\n      <td>6</td>\n      <td>1</td>\n      <td>5</td>\n      <td>8</td>\n    </tr>\n    <tr>\n      <th>1</th>\n      <td>2</td>\n      <td>5</td>\n      <td>4</td>\n      <td>6</td>\n      <td>1</td>\n    </tr>\n    <tr>\n      <th>2</th>\n      <td>8</td>\n      <td>8</td>\n      <td>2</td>\n      <td>2</td>\n      <td>9</td>\n    </tr>\n    <tr>\n      <th>3</th>\n      <td>1</td>\n      <td>6</td>\n      <td>5</td>\n      <td>1</td>\n      <td>7</td>\n    </tr>\n    <tr>\n      <th>4</th>\n      <td>9</td>\n      <td>7</td>\n      <td>8</td>\n      <td>2</td>\n      <td>5</td>\n    </tr>\n    <tr>\n      <th>5</th>\n      <td>9</td>\n      <td>4</td>\n      <td>2</td>\n      <td>7</td>\n      <td>3</td>\n    </tr>\n    <tr>\n      <th>6</th>\n      <td>9</td>\n      <td>8</td>\n      <td>7</td>\n      <td>8</td>\n      <td>4</td>\n    </tr>\n  </tbody>\n</table>\n</div>"
     },
     "metadata": {},
     "execution_count": 64
    }
   ],
   "source": [
    "## 18) ¿Como transformar una serie de un arreglo de numpy a un DataFrame con un `shape` definido?\n",
    "ser = pd.Series(np.random.randint(1, 10, 35))\n",
    "df = pd.DataFrame(ser.values.reshape(7,5))\n",
    "df"
   ]
  },
  {
   "cell_type": "code",
   "execution_count": 67,
   "metadata": {},
   "outputs": [
    {
     "output_type": "execute_result",
     "data": {
      "text/plain": "0     a\n4     e\n8     i\n14    o\n20    u\ndtype: object"
     },
     "metadata": {},
     "execution_count": 67
    }
   ],
   "source": [
    "## 19) ¿Obtener los valores de una serie conociendo la posicion por indice?\n",
    "ser = pd.Series(list('abcdefghijklmnopqrstuvwxyz'))\n",
    "pos = [0, 4, 8, 14, 20]\n",
    "# a e i o u\n",
    "resultado = ser.iloc[pos]\n",
    "resultado"
   ]
  },
  {
   "cell_type": "code",
   "execution_count": 99,
   "metadata": {},
   "outputs": [
    {
     "output_type": "execute_result",
     "data": {
      "text/plain": "   0  1\n0  0  a\n1  1  b\n2  2  c\n3  3  d\n4  4  e",
      "text/html": "<div>\n<style scoped>\n    .dataframe tbody tr th:only-of-type {\n        vertical-align: middle;\n    }\n\n    .dataframe tbody tr th {\n        vertical-align: top;\n    }\n\n    .dataframe thead th {\n        text-align: right;\n    }\n</style>\n<table border=\"1\" class=\"dataframe\">\n  <thead>\n    <tr style=\"text-align: right;\">\n      <th></th>\n      <th>0</th>\n      <th>1</th>\n    </tr>\n  </thead>\n  <tbody>\n    <tr>\n      <th>0</th>\n      <td>0</td>\n      <td>a</td>\n    </tr>\n    <tr>\n      <th>1</th>\n      <td>1</td>\n      <td>b</td>\n    </tr>\n    <tr>\n      <th>2</th>\n      <td>2</td>\n      <td>c</td>\n    </tr>\n    <tr>\n      <th>3</th>\n      <td>3</td>\n      <td>d</td>\n    </tr>\n    <tr>\n      <th>4</th>\n      <td>4</td>\n      <td>e</td>\n    </tr>\n  </tbody>\n</table>\n</div>"
     },
     "metadata": {},
     "execution_count": 99
    }
   ],
   "source": [
    "## 20) ¿Como anadir series vertical u horizontalmente a un DataFrame?\n",
    "ser1 = pd.Series(range(5))\n",
    "ser2 = pd.Series(list('abcde'))\n",
    "frame = pd.concat([ser1,ser2],axis=1) # axis =1 horizontal, = 0 vertical\n",
    "\n",
    "resultado = pd.DataFrame(frame)\n",
    "resultado"
   ]
  },
  {
   "cell_type": "code",
   "execution_count": 138,
   "metadata": {
    "tags": []
   },
   "outputs": [
    {
     "output_type": "stream",
     "name": "stdout",
     "text": "[1.0, 2.0, 3.0, 4.0, 5.0, 6.0, 7.0, 8.0, 9.0, 10.0]\n['zanahoria', 'zanahoria', 'manzana', 'zanahoria', 'manzana', 'zanahoria', 'manzana', 'banana', 'zanahoria', 'banana']\n-----------------\n"
    },
    {
     "output_type": "execute_result",
     "data": {
      "text/plain": "banana       9.0\nmanzana      5.0\nzanahoria    4.0\ndtype: float64"
     },
     "metadata": {},
     "execution_count": 138
    }
   ],
   "source": [
    "## 21)¿Obtener la media de una serie agrupada por otra serie?\n",
    "\n",
    "#`groupby` tambien esta disponible en series.\n",
    "\n",
    "frutas = pd.Series(np.random.choice(['manzana', 'banana', 'zanahoria'], 10))\n",
    "pesos = pd.Series(np.linspace(1, 10, 10))\n",
    "print(pesos.tolist())\n",
    "print(frutas.tolist())\n",
    "print('-----------------')\n",
    "data = pd.Series(pesos.values, index=frutas)\n",
    "data = data.groupby(by=frutas.values).median()\n",
    "data"
   ]
  },
  {
   "cell_type": "code",
   "execution_count": 141,
   "metadata": {},
   "outputs": [
    {
     "output_type": "execute_result",
     "data": {
      "text/plain": "      crim    zn       b  lstat\n0  0.00632  18.0  396.90   4.98\n1  0.02731   0.0  396.90   9.14\n2  0.02729   0.0  392.83   4.03\n3  0.03237   0.0  394.63   2.94\n4  0.06905   0.0  396.90   5.33\n5  0.02985   0.0  394.12   5.21\n6  0.08829  12.5  395.60  12.43\n7  0.14455  12.5  396.90  19.15\n8  0.21124  12.5  386.63  29.93\n9  0.17004  12.5  386.71  17.10",
      "text/html": "<div>\n<style scoped>\n    .dataframe tbody tr th:only-of-type {\n        vertical-align: middle;\n    }\n\n    .dataframe tbody tr th {\n        vertical-align: top;\n    }\n\n    .dataframe thead th {\n        text-align: right;\n    }\n</style>\n<table border=\"1\" class=\"dataframe\">\n  <thead>\n    <tr style=\"text-align: right;\">\n      <th></th>\n      <th>crim</th>\n      <th>zn</th>\n      <th>b</th>\n      <th>lstat</th>\n    </tr>\n  </thead>\n  <tbody>\n    <tr>\n      <th>0</th>\n      <td>0.00632</td>\n      <td>18.0</td>\n      <td>396.90</td>\n      <td>4.98</td>\n    </tr>\n    <tr>\n      <th>1</th>\n      <td>0.02731</td>\n      <td>0.0</td>\n      <td>396.90</td>\n      <td>9.14</td>\n    </tr>\n    <tr>\n      <th>2</th>\n      <td>0.02729</td>\n      <td>0.0</td>\n      <td>392.83</td>\n      <td>4.03</td>\n    </tr>\n    <tr>\n      <th>3</th>\n      <td>0.03237</td>\n      <td>0.0</td>\n      <td>394.63</td>\n      <td>2.94</td>\n    </tr>\n    <tr>\n      <th>4</th>\n      <td>0.06905</td>\n      <td>0.0</td>\n      <td>396.90</td>\n      <td>5.33</td>\n    </tr>\n    <tr>\n      <th>5</th>\n      <td>0.02985</td>\n      <td>0.0</td>\n      <td>394.12</td>\n      <td>5.21</td>\n    </tr>\n    <tr>\n      <th>6</th>\n      <td>0.08829</td>\n      <td>12.5</td>\n      <td>395.60</td>\n      <td>12.43</td>\n    </tr>\n    <tr>\n      <th>7</th>\n      <td>0.14455</td>\n      <td>12.5</td>\n      <td>396.90</td>\n      <td>19.15</td>\n    </tr>\n    <tr>\n      <th>8</th>\n      <td>0.21124</td>\n      <td>12.5</td>\n      <td>386.63</td>\n      <td>29.93</td>\n    </tr>\n    <tr>\n      <th>9</th>\n      <td>0.17004</td>\n      <td>12.5</td>\n      <td>386.71</td>\n      <td>17.10</td>\n    </tr>\n  </tbody>\n</table>\n</div>"
     },
     "metadata": {},
     "execution_count": 141
    }
   ],
   "source": [
    "## 22)¿Como importar solo columnas especificas de un archivo csv?\n",
    "\n",
    "path = 'https://raw.githubusercontent.com/selva86/datasets/master/BostonHousing.csv'\n",
    "\n",
    "columnas = [\"crim\",\"zn\",\"b\",\"lstat\"]\n",
    "respuesta = pd.read_csv(path,nrows=10,usecols=columnas)\n",
    "respuesta"
   ]
  },
  {
   "cell_type": "code",
   "execution_count": null,
   "metadata": {},
   "outputs": [],
   "source": []
  }
 ],
 "metadata": {
  "kernelspec": {
   "display_name": "Python 3.7.6 64-bit ('base': conda)",
   "language": "python",
   "name": "python37664bitbaseconda909c9ce2c0c9470db901783f63333543"
  },
  "language_info": {
   "codemirror_mode": {
    "name": "ipython",
    "version": 3
   },
   "file_extension": ".py",
   "mimetype": "text/x-python",
   "name": "python",
   "nbconvert_exporter": "python",
   "pygments_lexer": "ipython3",
   "version": "3.7.6-final"
  }
 },
 "nbformat": 4,
 "nbformat_minor": 4
}