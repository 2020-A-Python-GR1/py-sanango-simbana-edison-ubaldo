{
 "cells": [
  {
   "cell_type": "code",
   "execution_count": 1,
   "metadata": {},
   "outputs": [],
   "source": [
    "import numpy as np"
   ]
  },
  {
   "cell_type": "code",
   "execution_count": 3,
   "metadata": {},
   "outputs": [],
   "source": [
    "paises_1 = ('Ecuador', 'USA', 'Cuba', 'France')\n",
    "paises_2 = ('Brasil', 'China', 'España', 'Filipinas')"
   ]
  },
  {
   "cell_type": "code",
   "execution_count": 6,
   "metadata": {},
   "outputs": [
    {
     "data": {
      "text/plain": [
       "array([['Ecuador', 'USA', 'Cuba', 'France'],\n",
       "       ['Brasil', 'China', 'España', 'Filipinas']], dtype='<U9')"
      ]
     },
     "execution_count": 6,
     "metadata": {},
     "output_type": "execute_result"
    }
   ],
   "source": [
    "paises_2d = np.array([paises_1, paises_2])\n",
    "paises_2d"
   ]
  },
  {
   "cell_type": "code",
   "execution_count": 8,
   "metadata": {},
   "outputs": [
    {
     "data": {
      "text/plain": [
       "(2, 4)"
      ]
     },
     "execution_count": 8,
     "metadata": {},
     "output_type": "execute_result"
    }
   ],
   "source": [
    "paises_2d.shape"
   ]
  },
  {
   "cell_type": "markdown",
   "metadata": {},
   "source": [
    "### FLATTEN"
   ]
  },
  {
   "cell_type": "code",
   "execution_count": 50,
   "metadata": {},
   "outputs": [
    {
     "data": {
      "text/plain": [
       "array(['Ecuador', 'USA', 'Cuba', 'France', 'Brasil', 'China', 'España',\n",
       "       'Filipinas'], dtype='<U9')"
      ]
     },
     "execution_count": 50,
     "metadata": {},
     "output_type": "execute_result"
    }
   ],
   "source": [
    "paises_2d.flatten()"
   ]
  },
  {
   "cell_type": "code",
   "execution_count": 51,
   "metadata": {},
   "outputs": [
    {
     "data": {
      "text/plain": [
       "array([[['Ecuador', 'USA'],\n",
       "        ['Cuba', 'France']],\n",
       "\n",
       "       [['Brasil', 'China'],\n",
       "        ['España', 'Filipinas']]], dtype='<U9')"
      ]
     },
     "execution_count": 51,
     "metadata": {},
     "output_type": "execute_result"
    }
   ],
   "source": [
    "paises_2d.flatten().reshape(\n",
    "    2,\n",
    "    2,\n",
    "    -1, # Llenar con cualquier cosa. SOLO un -1 dentro del RESHAPE\n",
    ")\n"
   ]
  },
  {
   "cell_type": "code",
   "execution_count": 52,
   "metadata": {},
   "outputs": [
    {
     "name": "stdout",
     "output_type": "stream",
     "text": [
      "(2, 4)\n",
      "[['Ecuador' 'Brasil']\n",
      " ['USA' 'China']\n",
      " ['Cuba' 'España']\n",
      " ['France' 'Filipinas']]\n",
      "(4, 2)\n"
     ]
    }
   ],
   "source": [
    "# Transpuesta\n",
    "print(paises_2d.shape)\n",
    "print(paises_2d.T)\n",
    "print(paises_2d.T.shape)"
   ]
  },
  {
   "cell_type": "code",
   "execution_count": 53,
   "metadata": {},
   "outputs": [
    {
     "data": {
      "text/plain": [
       "[array(['Ecuador'], dtype='<U9'),\n",
       " array(['USA', 'Cuba'], dtype='<U9'),\n",
       " array(['France', 'Brasil', 'China'], dtype='<U9'),\n",
       " array(['España', 'Filipinas'], dtype='<U9'),\n",
       " array([], dtype='<U9')]"
      ]
     },
     "execution_count": 53,
     "metadata": {},
     "output_type": "execute_result"
    }
   ],
   "source": [
    "# Crea múltiples arreglos según los índices indicados [1,3,6,7]\n",
    "np.split(paises_2d.flatten(),[1,3,6,8])"
   ]
  },
  {
   "cell_type": "code",
   "execution_count": 54,
   "metadata": {},
   "outputs": [],
   "source": [
    "arr1, arr2, arr3, arr4 = np.split(paises_2d.flatten(),4)"
   ]
  },
  {
   "cell_type": "code",
   "execution_count": 55,
   "metadata": {},
   "outputs": [
    {
     "name": "stdout",
     "output_type": "stream",
     "text": [
      "[['Ecuador' 'USA' 'Cuba' 'France']\n",
      " ['Brasil' 'China' 'España' 'Filipinas']]\n",
      "[array([['Ecuador', 'USA'],\n",
      "       ['Brasil', 'China']], dtype='<U9'), array([['Cuba', 'France'],\n",
      "       ['España', 'Filipinas']], dtype='<U9')]\n",
      "[array([['Ecuador', 'USA', 'Cuba', 'France']], dtype='<U9'), array([['Brasil', 'China', 'España', 'Filipinas']], dtype='<U9')]\n",
      "[array([['Ecuador', 'USA', 'Cuba', 'France']], dtype='<U9'), array([['Brasil', 'China', 'España', 'Filipinas']], dtype='<U9')]\n"
     ]
    }
   ],
   "source": [
    "print(paises_2d)\n",
    "print(np.hsplit(paises_2d, 2)) # Eje 1 \n",
    "print(np.vsplit(paises_2d, 2)) # Eje 0\n",
    "print(np.split(paises_2d,2))"
   ]
  },
  {
   "cell_type": "code",
   "execution_count": null,
   "metadata": {},
   "outputs": [],
   "source": []
  }
 ],
 "metadata": {
  "kernelspec": {
   "display_name": "Python 3",
   "language": "python",
   "name": "python3"
  },
  "language_info": {
   "codemirror_mode": {
    "name": "ipython",
    "version": 3
   },
   "file_extension": ".py",
   "mimetype": "text/x-python",
   "name": "python",
   "nbconvert_exporter": "python",
   "pygments_lexer": "ipython3",
   "version": "3.7.6"
  }
 },
 "nbformat": 4,
 "nbformat_minor": 4
}
