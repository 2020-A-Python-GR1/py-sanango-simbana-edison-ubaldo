{
 "cells": [
  {
   "cell_type": "code",
   "execution_count": 2,
   "metadata": {},
   "outputs": [
    {
     "name": "stdout",
     "output_type": "stream",
     "text": [
      "hello world\n"
     ]
    },
    {
     "data": {
      "text/plain": [
       "NoneType"
      ]
     },
     "execution_count": 2,
     "metadata": {},
     "output_type": "execute_result"
    }
   ],
   "source": [
    "# Funciones\n",
    "\n",
    "def hello_world():\n",
    "    print(\"hello world\")\n",
    "    \n",
    "type(hello_world())"
   ]
  },
  {
   "cell_type": "code",
   "execution_count": 3,
   "metadata": {},
   "outputs": [
    {
     "name": "stdout",
     "output_type": "stream",
     "text": [
      "La suma es: 5\n"
     ]
    }
   ],
   "source": [
    "def add_two_numbers(number_one, number_two):\n",
    "    return number_one + number_two\n",
    "\n",
    "total = add_two_numbers(1,4)\n",
    "\n",
    "print(f\"La suma es: {total}\" )"
   ]
  },
  {
   "cell_type": "code",
   "execution_count": 4,
   "metadata": {},
   "outputs": [
    {
     "name": "stdout",
     "output_type": "stream",
     "text": [
      "Universidad: EPN\n",
      "Universidad: ESPE\n"
     ]
    }
   ],
   "source": [
    "# Parametros opcionales o por defecto\n",
    "def print_college(name=\"EPN\"):\n",
    "    print(f\"Universidad: {name}\")\n",
    "    \n",
    "print_college()\n",
    "print_college(\"ESPE\")"
   ]
  },
  {
   "cell_type": "code",
   "execution_count": 5,
   "metadata": {},
   "outputs": [
    {
     "name": "stdout",
     "output_type": "stream",
     "text": [
      "Color: Blue\n",
      "Placa: asd123\n",
      "HP: 3000\n",
      "Year: 333\n",
      "Color: Blue\n",
      "Placa: asd123\n",
      "HP: 3000\n",
      "Year: 1000\n"
     ]
    }
   ],
   "source": [
    "# REGLA 1) Pram. obligatorios\n",
    "#       2) param. opcionales\n",
    "\n",
    "def print_car(color, placa, hp, year = 1000):\n",
    "    print(f\"Color: {color}\")\n",
    "    print(f\"Placa: {placa}\")\n",
    "    print(f\"HP: {hp}\")\n",
    "    print(f\"Year: {year}\")\n",
    "    \n",
    "print_car(\"Blue\", \"asd123\", 3000,333)\n",
    "print_car(\"Blue\", \"asd123\", 3000)"
   ]
  },
  {
   "cell_type": "code",
   "execution_count": 16,
   "metadata": {},
   "outputs": [
    {
     "name": "stdout",
     "output_type": "stream",
     "text": [
      "Color: blue\n",
      "Placa: asdas\n",
      "HP: 134\n",
      "Year: 3455\n"
     ]
    }
   ],
   "source": [
    "# Named Parametes\n",
    "\n",
    "print_car(placa=\"asdas\", year = 3455, color = \"blue\", hp = 134)"
   ]
  },
  {
   "cell_type": "code",
   "execution_count": 20,
   "metadata": {},
   "outputs": [
    {
     "data": {
      "text/plain": [
       "33"
      ]
     },
     "execution_count": 20,
     "metadata": {},
     "output_type": "execute_result"
    }
   ],
   "source": [
    "#Parametros infinitos\n",
    "def add_numbers(first, *numbers):\n",
    "    add = first\n",
    "    for number in numbers:\n",
    "        add = add + number\n",
    "        \n",
    "    return add\n",
    "    \n",
    "add_numbers(1,3,4,5,6,7,7)"
   ]
  },
  {
   "cell_type": "code",
   "execution_count": 22,
   "metadata": {},
   "outputs": [
    {
     "name": "stdout",
     "output_type": "stream",
     "text": [
      "{'greeting': 'hi', 'msg': 'world'}\n",
      "<class 'dict'>\n"
     ]
    }
   ],
   "source": [
    "def set_config(**kwargs):   #Key word Arguments\n",
    "    print(kwargs)\n",
    "    print(type(kwargs))\n",
    "    \n",
    "set_config(greeting=\"hi\", msg=\"world\")"
   ]
  },
  {
   "cell_type": "code",
   "execution_count": null,
   "metadata": {},
   "outputs": [],
   "source": [
    "# ORDEN  - REGLAS\n",
    "def example(requerido_uno,\n",
    "           requerido dos,\n",
    "           opcional_uno = 1, \n",
    "           opcional_dos = 2,\n",
    "           *infinitos,\n",
    "           **kwargs)"
   ]
  }
 ],
 "metadata": {
  "kernelspec": {
   "display_name": "Python 3",
   "language": "python",
   "name": "python3"
  },
  "language_info": {
   "codemirror_mode": {
    "name": "ipython",
    "version": 3
   },
   "file_extension": ".py",
   "mimetype": "text/x-python",
   "name": "python",
   "nbconvert_exporter": "python",
   "pygments_lexer": "ipython3",
   "version": "3.7.6"
  }
 },
 "nbformat": 4,
 "nbformat_minor": 4
}
