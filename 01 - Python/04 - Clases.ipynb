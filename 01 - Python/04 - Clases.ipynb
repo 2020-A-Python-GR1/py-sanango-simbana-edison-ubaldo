{
 "cells": [
  {
   "cell_type": "code",
   "execution_count": 1,
   "metadata": {},
   "outputs": [],
   "source": [
    "# Funciones Lambda\n",
    "\n",
    "al_cuadrado = lambda x : x * x"
   ]
  },
  {
   "cell_type": "code",
   "execution_count": 3,
   "metadata": {},
   "outputs": [
    {
     "data": {
      "text/plain": [
       "9"
      ]
     },
     "execution_count": 3,
     "metadata": {},
     "output_type": "execute_result"
    }
   ],
   "source": [
    "al_cuadrado(3)"
   ]
  },
  {
   "cell_type": "code",
   "execution_count": 8,
   "metadata": {},
   "outputs": [],
   "source": [
    "sumar_dos_numeros = lambda x,y,c,a,z : x + y + c - a - z"
   ]
  },
  {
   "cell_type": "code",
   "execution_count": 10,
   "metadata": {},
   "outputs": [
    {
     "data": {
      "text/plain": [
       "9"
      ]
     },
     "execution_count": 10,
     "metadata": {},
     "output_type": "execute_result"
    }
   ],
   "source": [
    "sumar_dos_numeros(3,9,11,6,8)"
   ]
  },
  {
   "cell_type": "code",
   "execution_count": 12,
   "metadata": {},
   "outputs": [
    {
     "name": "stdout",
     "output_type": "stream",
     "text": [
      "Constructor started\n",
      "Jeune\n",
      "140.39999999999998\n",
      "Color: Jeune \n",
      "Numero Chasis: 120\n"
     ]
    }
   ],
   "source": [
    "# CLASES\n",
    "\n",
    "class Car:\n",
    "    pass # Para las clases que van a ser implementadas\n",
    "    \n",
    "    color = None # publico\n",
    "    __numero_chasis__ = 1 #privado\n",
    "    \n",
    "    def __init__(self,color = \"Noir\"):\n",
    "        print(\"Constructor started\")\n",
    "        self.color = color\n",
    "        \n",
    "    def set_chasis(self, chasis_number):  #Publico\n",
    "        self.__numero_chasis__ = chasis_number\n",
    "        return self.__calculo_chasis()\n",
    "    \n",
    "    def __calculo_chasis(self): #Privado\n",
    "        return self.__numero_chasis__ * 1.17\n",
    "        \n",
    "    def __str__(self):\n",
    "        parte_uno = f\"Color: {self.color} \\n\"\n",
    "        parte_dos = f\"Numero Chasis: {self.__numero_chasis__}\"\n",
    "        return parte_uno + parte_dos\n",
    "        \n",
    "nuevo_auto = Car(\"Jeune\")\n",
    "print(nuevo_auto.color)\n",
    "\n",
    "print(nuevo_auto.set_chasis(120))\n",
    "print(nuevo_auto)"
   ]
  },
  {
   "cell_type": "code",
   "execution_count": 13,
   "metadata": {},
   "outputs": [],
   "source": [
    "# HEREDAR CLASES\n",
    "class BMW(Car):\n",
    "    def __init__(self,color, chasis):\n",
    "        super().__init__(color)\n",
    "        super().set_chasis(chasis)\n",
    "        print(\"Child Constructor Started\")"
   ]
  },
  {
   "cell_type": "code",
   "execution_count": 14,
   "metadata": {},
   "outputs": [
    {
     "name": "stdout",
     "output_type": "stream",
     "text": [
      "Constructor started\n",
      "Child Constructor Started\n",
      "Color: Blanco \n",
      "Numero Chasis: 11\n"
     ]
    }
   ],
   "source": [
    "nuevo_bmw = BMW(\"Blanco\", 11)\n",
    "print(nuevo_bmw)"
   ]
  },
  {
   "cell_type": "code",
   "execution_count": null,
   "metadata": {},
   "outputs": [],
   "source": []
  }
 ],
 "metadata": {
  "kernelspec": {
   "display_name": "Python 3",
   "language": "python",
   "name": "python3"
  },
  "language_info": {
   "codemirror_mode": {
    "name": "ipython",
    "version": 3
   },
   "file_extension": ".py",
   "mimetype": "text/x-python",
   "name": "python",
   "nbconvert_exporter": "python",
   "pygments_lexer": "ipython3",
   "version": "3.7.6"
  }
 },
 "nbformat": 4,
 "nbformat_minor": 4
}
