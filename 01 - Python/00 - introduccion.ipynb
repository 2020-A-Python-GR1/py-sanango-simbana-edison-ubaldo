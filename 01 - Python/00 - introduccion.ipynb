{
 "cells": [
  {
   "cell_type": "markdown",
   "metadata": {},
   "source": [
    "# Title 1\n",
    "\n",
    "###### Title 6\n",
    "\n",
    "![alt text](https://github.com/adam-p/markdown-here/raw/master/src/common/images/icon48.png \"Logo Title Text 1\")"
   ]
  },
  {
   "cell_type": "markdown",
   "metadata": {},
   "source": [
    "### Esto es markdown\n",
    "\n",
    "```javascript\n",
    "var s = \"JavaScript syntax highlighting\";\n",
    "alert(s);\n",
    "```\n",
    " \n",
    "```python\n",
    "s = \"Python syntax highlighting\"\n",
    "print s\n",
    "```\n",
    " \n",
    "```\n",
    "No language indicated, so no syntax highlighting. \n",
    "But let's throw in a <b>tag</b>.\n",
    "```"
   ]
  },
  {
   "cell_type": "code",
   "execution_count": 1,
   "metadata": {},
   "outputs": [
    {
     "name": "stdout",
     "output_type": "stream",
     "text": [
      "Hola mundo\n"
     ]
    }
   ],
   "source": [
    "print(\"Hola mundo\")"
   ]
  },
  {
   "cell_type": "code",
   "execution_count": 2,
   "metadata": {},
   "outputs": [
    {
     "name": "stdout",
     "output_type": "stream",
     "text": [
      "<class 'int'>\n",
      "<class 'float'>\n",
      "<class 'str'>\n",
      "<class 'str'>\n",
      "<class 'str'>\n",
      "<class 'bool'>\n",
      "<class 'bool'>\n",
      "<class 'NoneType'>\n"
     ]
    }
   ],
   "source": [
    "# NO tipado\n",
    "# Variables primitivas\n",
    "\n",
    "entero = 10\n",
    "decimales = 4.543\n",
    "nombre = \"Edison\"\n",
    "segundoNombre = \"Ubaldo\"\n",
    "apellido = 'Sanango'\n",
    "casado = False\n",
    "profesor = True\n",
    "hijos = None\n",
    "\n",
    "\n",
    "# Tipos de datos\n",
    "\n",
    "print(type(entero))           # int\n",
    "print(type(decimales))        # float\n",
    "print(type(nombre))           # str\n",
    "print(type(segundoNombre))    # str\n",
    "print(type(apellido))         # str\n",
    "print(type(casado))           # bool\n",
    "print(type(profesor))         # bool\n",
    "print(type(hijos))            # NoneType"
   ]
  },
  {
   "cell_type": "code",
   "execution_count": 3,
   "metadata": {},
   "outputs": [
    {
     "name": "stdout",
     "output_type": "stream",
     "text": [
      "\n",
      "Es un ejemplo de una cadena larga.\n",
      "\n",
      "Ahora no es tan larga.\n",
      "\n",
      "Pero solo es un ejemplo.\n",
      "\n"
     ]
    }
   ],
   "source": [
    "cadena_de_texto = \"\"\"\n",
    "Es un ejemplo de una cadena larga.\n",
    "\n",
    "Ahora no es tan larga.\n",
    "\n",
    "Pero solo es un ejemplo.\n",
    "\"\"\"\n",
    "\n",
    "print(cadena_de_texto)"
   ]
  },
  {
   "cell_type": "code",
   "execution_count": 7,
   "metadata": {},
   "outputs": [
    {
     "data": {
      "text/plain": [
       "True"
      ]
     },
     "execution_count": 7,
     "metadata": {},
     "output_type": "execute_result"
    }
   ],
   "source": [
    "import math\n",
    "\n",
    "x = float('Nan')\n",
    "math.isnan(x)"
   ]
  },
  {
   "cell_type": "code",
   "execution_count": 8,
   "metadata": {},
   "outputs": [
    {
     "name": "stdout",
     "output_type": "stream",
     "text": [
      "10\n",
      "Edison\n"
     ]
    }
   ],
   "source": [
    "print(entero)\n",
    "entero = decimales\n",
    "entero = hijos\n",
    "entero = casado\n",
    "entero = nombre\n",
    "print(entero)"
   ]
  },
  {
   "cell_type": "code",
   "execution_count": 14,
   "metadata": {},
   "outputs": [
    {
     "name": "stdout",
     "output_type": "stream",
     "text": [
      "1.Truty\n",
      "2.Falsy\n",
      "3.Falsy\n",
      "4.Truty\n",
      "5.Falsy\n",
      "6.Truty\n",
      "7.Truty\n",
      "8.Truty\n",
      "9.Falsy\n",
      "10.Truty\n",
      "11.Falsy\n",
      "12.Truty\n",
      "13.Truty\n"
     ]
    }
   ],
   "source": [
    "# Condiciones\n",
    "# Truty - Falsy\n",
    "\n",
    "tuplas = (1,2,3) # Arreglos que no se pueden modificar\n",
    "listas = [4,5,6] # Arreglos que se pueden modificar\n",
    "\n",
    "diccionario = {\n",
    "    \"nombre\": \"Edison\"\n",
    "}\n",
    "\n",
    "\n",
    "#'''\n",
    "if('Edison'):\n",
    "    # ...\n",
    "    print('1.Truty') #\n",
    "else:\n",
    "    # ...\n",
    "    print('1.Falsy')\n",
    "    \n",
    "    \n",
    "if(''):\n",
    "    # ...\n",
    "    print('2.Truty')\n",
    "else:\n",
    "    # ...\n",
    "    print('2.Falsy') #\n",
    "    \n",
    "# Para validar que una función tenga valor\n",
    "nulo = None\n",
    "if(nulo):\n",
    "    print('3.Truty')\n",
    "else:\n",
    "    print('3.Falsy') #\n",
    "    \n",
    "if(1):\n",
    "    print('4.Truty') #\n",
    "else:\n",
    "    print('4.Falsy')\n",
    "\n",
    "if(0):\n",
    "    print('5.Truty')\n",
    "else:\n",
    "    print('5.Falsy') #\n",
    "    \n",
    "if(-1):\n",
    "    print('6.Truty') #\n",
    "else:\n",
    "    print('6.Falsy')\n",
    "    \n",
    "if(-1.1):\n",
    "    print('7.Truty') #\n",
    "else:\n",
    "    print('7.Falsy')\n",
    "    \n",
    "if(1.2):\n",
    "    print('8.Truty') #\n",
    "else:\n",
    "    print('8.Falsy')\n",
    "\n",
    "#'''\n",
    "\n",
    "if(()): #Falsy\n",
    "    print('9.Truty')\n",
    "else:\n",
    "    print('9.Falsy') #\n",
    "    \n",
    "if((1,2,3)): #Truty\n",
    "    print('10.Truty') #\n",
    "else:\n",
    "    print('10.Falsy')\n",
    "    \n",
    "if([]): #Falsy\n",
    "    print('11.Truty')\n",
    "else: \n",
    "    print('11.Falsy') #\n",
    "    \n",
    "if([1,2,3]): #Truty\n",
    "    print('12.Truty') #\n",
    "else:\n",
    "    print('12.Falsy')\n",
    "    \n",
    "    \n",
    "nombre = \"nombre\"\n",
    "if({nombre: \"Edison\"}): #Truty\n",
    "    print('13.Truty') #\n",
    "else:\n",
    "    print('13.Falsy')"
   ]
  },
  {
   "cell_type": "code",
   "execution_count": 15,
   "metadata": {},
   "outputs": [],
   "source": [
    "arreglo = [1, 2, 3, 4, 5, 6, 7, 8, 9, 10]"
   ]
  },
  {
   "cell_type": "code",
   "execution_count": 16,
   "metadata": {},
   "outputs": [
    {
     "name": "stdout",
     "output_type": "stream",
     "text": [
      "[1, 2, 3]\n",
      "[6, 7, 8, 9, 10]\n",
      "[1, 2, 3]\n",
      "[4, 5, 6, 7, 8]\n",
      "[3, 4, 5, 6, 7, 8]\n",
      "[7, 8, 9]\n",
      "[4, 5, 6, 7, 8, 9, 10]\n",
      "[1, 2, 3, 4, 5, 6, 7]\n",
      "[1, 2, 3, 4, 5, 6, 7, 8, 9, 10]\n"
     ]
    }
   ],
   "source": [
    "# Filtros\n",
    "\n",
    "print(arreglo[0:3]) # Prácticamente es un intervalo abierto [0,3[\n",
    "print(arreglo[5:]) # Hasta el final\n",
    "print(arreglo[:3]) # Desde el principio\n",
    "print(arreglo[3:-2]) # Índice negativo empieza en el FINAL.\n",
    "print(arreglo[-8:8])\n",
    "print(arreglo[-4:-1])\n",
    "print(arreglo[-7:])\n",
    "print(arreglo[:-3])\n",
    "print(arreglo[:])"
   ]
  },
  {
   "cell_type": "code",
   "execution_count": 23,
   "metadata": {},
   "outputs": [
    {
     "name": "stdout",
     "output_type": "stream",
     "text": [
      "(6, 7)\n"
     ]
    }
   ],
   "source": [
    "arregloTupla = (1, 2, 3, 4, 5, 6, 7, 8, 9, 10)\n",
    "print(arregloTupla[5:7])"
   ]
  },
  {
   "cell_type": "code",
   "execution_count": 19,
   "metadata": {},
   "outputs": [
    {
     "name": "stdout",
     "output_type": "stream",
     "text": [
      "Edison\n"
     ]
    }
   ],
   "source": [
    "diccionario = {\n",
    "    \"nombre\": \"Edison\",\n",
    "    \"apellido\": \"Sanango\",\n",
    "    \"sueldo\": 0.1,\n",
    "    \"mascotas\": [{\"nombre\": \"Atena\"}]\n",
    "}\n",
    "\n",
    "print(diccionario[\"nombre\"])"
   ]
  },
  {
   "cell_type": "code",
   "execution_count": 20,
   "metadata": {},
   "outputs": [
    {
     "data": {
      "text/plain": [
       "False"
      ]
     },
     "execution_count": 20,
     "metadata": {},
     "output_type": "execute_result"
    }
   ],
   "source": [
    "# Para verificar si existe un dato\n",
    "\n",
    "12 in arreglo"
   ]
  },
  {
   "cell_type": "code",
   "execution_count": 21,
   "metadata": {},
   "outputs": [
    {
     "name": "stdout",
     "output_type": "stream",
     "text": [
      "<class 'bool'>\n"
     ]
    }
   ],
   "source": [
    "print(type(12 in arreglo))"
   ]
  },
  {
   "cell_type": "code",
   "execution_count": 25,
   "metadata": {},
   "outputs": [
    {
     "data": {
      "text/plain": [
       "True"
      ]
     },
     "execution_count": 25,
     "metadata": {},
     "output_type": "execute_result"
    }
   ],
   "source": [
    "\"nombre\" in diccionario"
   ]
  },
  {
   "cell_type": "code",
   "execution_count": 29,
   "metadata": {},
   "outputs": [
    {
     "data": {
      "text/plain": [
       "False"
      ]
     },
     "execution_count": 29,
     "metadata": {},
     "output_type": "execute_result"
    }
   ],
   "source": [
    "\"Sanango\" in diccionario"
   ]
  },
  {
   "cell_type": "code",
   "execution_count": 30,
   "metadata": {},
   "outputs": [
    {
     "name": "stdout",
     "output_type": "stream",
     "text": [
      "nombre\n",
      "apellido\n",
      "sueldo\n",
      "mascotas\n"
     ]
    }
   ],
   "source": [
    "for numeroLista in diccionario:\n",
    "    print(numeroLista)"
   ]
  },
  {
   "cell_type": "code",
   "execution_count": 31,
   "metadata": {},
   "outputs": [
    {
     "name": "stdout",
     "output_type": "stream",
     "text": [
      "0\n",
      "1\n",
      "2\n",
      "3\n",
      "4\n",
      "5\n",
      "6\n",
      "7\n",
      "8\n",
      "9\n"
     ]
    }
   ],
   "source": [
    "contador = 0\n",
    "while contador < 10:\n",
    "    print(contador)\n",
    "    contador += 1"
   ]
  },
  {
   "cell_type": "code",
   "execution_count": 33,
   "metadata": {},
   "outputs": [
    {
     "name": "stdout",
     "output_type": "stream",
     "text": [
      "{'nombre': 'Edison', 'apellido': 'Sanango', 'sueldo': 0.1, 'mascotas': ['Bambina']}\n"
     ]
    }
   ],
   "source": [
    "# Para acceder al valor de un diccionario\n",
    "\n",
    "diccionario['mascotas'][0] = \"Bambina\"\n",
    "print(diccionario)"
   ]
  },
  {
   "cell_type": "code",
   "execution_count": 34,
   "metadata": {},
   "outputs": [
    {
     "data": {
      "text/plain": [
       "dict_keys(['nombre', 'apellido', 'sueldo', 'mascotas'])"
      ]
     },
     "execution_count": 34,
     "metadata": {},
     "output_type": "execute_result"
    }
   ],
   "source": [
    "diccionario.keys()"
   ]
  },
  {
   "cell_type": "code",
   "execution_count": 35,
   "metadata": {},
   "outputs": [
    {
     "data": {
      "text/plain": [
       "dict_values(['Edison', 'Sanango', 0.1, ['Bambina']])"
      ]
     },
     "execution_count": 35,
     "metadata": {},
     "output_type": "execute_result"
    }
   ],
   "source": [
    "diccionario.values()"
   ]
  },
  {
   "cell_type": "code",
   "execution_count": 36,
   "metadata": {},
   "outputs": [
    {
     "data": {
      "text/plain": [
       "dict"
      ]
     },
     "execution_count": 36,
     "metadata": {},
     "output_type": "execute_result"
    }
   ],
   "source": [
    "type(diccionario)"
   ]
  },
  {
   "cell_type": "code",
   "execution_count": 37,
   "metadata": {},
   "outputs": [
    {
     "data": {
      "text/plain": [
       "dict_values"
      ]
     },
     "execution_count": 37,
     "metadata": {},
     "output_type": "execute_result"
    }
   ],
   "source": [
    "type(diccionario.values())"
   ]
  },
  {
   "cell_type": "code",
   "execution_count": 38,
   "metadata": {},
   "outputs": [
    {
     "name": "stdout",
     "output_type": "stream",
     "text": [
      "nombre\n",
      "apellido\n",
      "sueldo\n",
      "mascotas\n"
     ]
    }
   ],
   "source": [
    "for llave in diccionario.keys():\n",
    "    print(llave)"
   ]
  },
  {
   "cell_type": "code",
   "execution_count": 39,
   "metadata": {},
   "outputs": [
    {
     "name": "stdout",
     "output_type": "stream",
     "text": [
      "Edison\n",
      "Sanango\n",
      "0.1\n",
      "['Bambina']\n"
     ]
    }
   ],
   "source": [
    "for valor in diccionario.values():\n",
    "    print(valor)"
   ]
  },
  {
   "cell_type": "code",
   "execution_count": 40,
   "metadata": {},
   "outputs": [
    {
     "name": "stdout",
     "output_type": "stream",
     "text": [
      "Hola\n"
     ]
    }
   ],
   "source": [
    "a = None\n",
    "if (a != True):\n",
    "    print('Hola')"
   ]
  },
  {
   "cell_type": "code",
   "execution_count": null,
   "metadata": {},
   "outputs": [],
   "source": []
  }
 ],
 "metadata": {
  "kernelspec": {
   "display_name": "Python 3",
   "language": "python",
   "name": "python3"
  },
  "language_info": {
   "codemirror_mode": {
    "name": "ipython",
    "version": 3
   },
   "file_extension": ".py",
   "mimetype": "text/x-python",
   "name": "python",
   "nbconvert_exporter": "python",
   "pygments_lexer": "ipython3",
   "version": "3.7.6"
  }
 },
 "nbformat": 4,
 "nbformat_minor": 4
}
