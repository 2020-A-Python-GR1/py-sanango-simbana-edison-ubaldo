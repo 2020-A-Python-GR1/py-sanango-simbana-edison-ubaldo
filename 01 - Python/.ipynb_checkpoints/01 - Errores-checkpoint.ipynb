{
 "cells": [
  {
   "cell_type": "code",
   "execution_count": 1,
   "metadata": {},
   "outputs": [
    {
     "name": "stdout",
     "output_type": "stream",
     "text": [
      "name 'fasdfas' is not defined\n"
     ]
    }
   ],
   "source": [
    "try: \n",
    "    fasdfas\n",
    "except Exception as error:\n",
    "    print(error)"
   ]
  },
  {
   "cell_type": "code",
   "execution_count": 7,
   "metadata": {},
   "outputs": [
    {
     "name": "stdout",
     "output_type": "stream",
     "text": [
      "Python common error\n"
     ]
    }
   ],
   "source": [
    "try: \n",
    "    #asdasd\n",
    "    #0/0\n",
    "    a = {'b': 'b'}\n",
    "    a['c']\n",
    "except NameError as nameError:\n",
    "    prnit(\"Name error, variable not defined\")\n",
    "except (ZeroDivisionError, KeyError) as errorComun:\n",
    "    print(\"Python common error\")\n",
    "except Exception as error:\n",
    "    print(error)"
   ]
  },
  {
   "cell_type": "code",
   "execution_count": null,
   "metadata": {},
   "outputs": [],
   "source": []
  }
 ],
 "metadata": {
  "kernelspec": {
   "display_name": "Python 3",
   "language": "python",
   "name": "python3"
  },
  "language_info": {
   "codemirror_mode": {
    "name": "ipython",
    "version": 3
   },
   "file_extension": ".py",
   "mimetype": "text/x-python",
   "name": "python",
   "nbconvert_exporter": "python",
   "pygments_lexer": "ipython3",
   "version": "3.7.6"
  }
 },
 "nbformat": 4,
 "nbformat_minor": 4
}
