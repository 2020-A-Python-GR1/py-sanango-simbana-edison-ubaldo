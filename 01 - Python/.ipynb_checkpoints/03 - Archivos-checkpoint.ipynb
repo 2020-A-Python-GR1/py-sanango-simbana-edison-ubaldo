{
 "cells": [
  {
   "cell_type": "code",
   "execution_count": 7,
   "metadata": {},
   "outputs": [
    {
     "name": "stdout",
     "output_type": "stream",
     "text": [
      "['Buenos días']\n"
     ]
    }
   ],
   "source": [
    "try:\n",
    "    path = \"./quotes.txt\"\n",
    "    open_file = open(path)\n",
    "    line_1 = open_file.readlines() #Devuelve una lista\n",
    "    print(line_1)\n",
    "except Exception as error:\n",
    "    print(\"Error at reading file\")"
   ]
  },
  {
   "cell_type": "code",
   "execution_count": 9,
   "metadata": {},
   "outputs": [],
   "source": [
    "try:\n",
    "    path = \"./quotes.txt\"\n",
    "    open_file = open(path, 'a')        # Métodos de escritura w (write)   ,   a (append)\n",
    "    open_file.write(\"BUenas noches\")\n",
    "    open_file.close()\n",
    "except Exception as error:\n",
    "    print(\"Error at reading file\")"
   ]
  },
  {
   "cell_type": "code",
   "execution_count": null,
   "metadata": {},
   "outputs": [],
   "source": []
  }
 ],
 "metadata": {
  "kernelspec": {
   "display_name": "Python 3",
   "language": "python",
   "name": "python3"
  },
  "language_info": {
   "codemirror_mode": {
    "name": "ipython",
    "version": 3
   },
   "file_extension": ".py",
   "mimetype": "text/x-python",
   "name": "python",
   "nbconvert_exporter": "python",
   "pygments_lexer": "ipython3",
   "version": "3.7.6"
  }
 },
 "nbformat": 4,
 "nbformat_minor": 4
}
