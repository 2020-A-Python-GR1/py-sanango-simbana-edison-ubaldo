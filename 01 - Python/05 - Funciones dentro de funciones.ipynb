{
 "cells": [
  {
   "cell_type": "code",
   "execution_count": 1,
   "metadata": {},
   "outputs": [
    {
     "data": {
      "text/plain": [
       "5"
      ]
     },
     "execution_count": 1,
     "metadata": {},
     "output_type": "execute_result"
    }
   ],
   "source": [
    "def calculadora(num_uno, num_dos, operacion = \"suma\", tercero = 0):\n",
    "    def suma():\n",
    "        return num_uno + num_dos + tercero\n",
    "    def resta():\n",
    "        return num_uno - num_dos\n",
    "    def division():\n",
    "        return num_uno / num_dos\n",
    "    def multiplicacion():\n",
    "        return num_uno * num_dos\n",
    "    \n",
    "    def devolver_respuesta():\n",
    "        \n",
    "        opciones = {\n",
    "            \"suma\": suma,\n",
    "            \"resta\": resta,\n",
    "            \"multiplacion\": multiplicacion,\n",
    "            \"division\": division\n",
    "        }\n",
    "        \n",
    "        return opciones[operacion]()  # retorna ejecucion de la funcion\n",
    "        #return opciones[operacion] #retorna definicion de la funcion\n",
    "    \n",
    "    return devolver_respuesta()\n",
    "\n",
    "\n",
    "calculadora(9,4, \"resta\")"
   ]
  },
  {
   "cell_type": "code",
   "execution_count": 2,
   "metadata": {},
   "outputs": [
    {
     "name": "stdout",
     "output_type": "stream",
     "text": [
      "Dime tu edad2\n",
      "2\n",
      "<class 'str'>\n"
     ]
    }
   ],
   "source": [
    "edad = input(\"Dime tu edad\")\n",
    "print(edad)\n",
    "print(type(edad))"
   ]
  },
  {
   "cell_type": "code",
   "execution_count": null,
   "metadata": {},
   "outputs": [],
   "source": []
  }
 ],
 "metadata": {
  "kernelspec": {
   "display_name": "Python 3",
   "language": "python",
   "name": "python3"
  },
  "language_info": {
   "codemirror_mode": {
    "name": "ipython",
    "version": 3
   },
   "file_extension": ".py",
   "mimetype": "text/x-python",
   "name": "python",
   "nbconvert_exporter": "python",
   "pygments_lexer": "ipython3",
   "version": "3.7.6"
  }
 },
 "nbformat": 4,
 "nbformat_minor": 4
}
